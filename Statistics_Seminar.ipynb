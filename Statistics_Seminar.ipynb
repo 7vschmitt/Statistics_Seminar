{
  "nbformat": 4,
  "nbformat_minor": 0,
  "metadata": {
    "colab": {
      "name": "Statistics_Seminar.ipynb",
      "provenance": [],
      "authorship_tag": "ABX9TyMMrnZvHDFOUxa0/zrW9r9Y",
      "include_colab_link": true
    },
    "kernelspec": {
      "name": "python3",
      "display_name": "Python 3"
    },
    "language_info": {
      "name": "python"
    }
  },
  "cells": [
    {
      "cell_type": "markdown",
      "metadata": {
        "id": "view-in-github",
        "colab_type": "text"
      },
      "source": [
        "<a href=\"https://colab.research.google.com/github/7vschmitt/Statistics_Seminar/blob/main/Statistics_Seminar.ipynb\" target=\"_parent\"><img src=\"https://colab.research.google.com/assets/colab-badge.svg\" alt=\"Open In Colab\"/></a>"
      ]
    },
    {
      "cell_type": "markdown",
      "metadata": {
        "id": "c1xeV0nY_UCo"
      },
      "source": [
        "**Template Statistic Seminar Google Colab**\n",
        "Colab is a free Jupyter notebook environment that runs entirely in the cloud. Most importantly, it does not require a setup and the notebooks that you create can be simultaneously edited by your team members - just the way you edit documents in Google Docs. Colab supports many popular machine learning libraries which can be easily loaded in your notebook.\n",
        "\n",
        "As a programmer, you can perform the following using Google Colab.\n",
        "* Write and execute code in Python\n",
        "* Document your code that supports mathematical equations\n",
        "* Create/Upload/Share notebooks\n",
        "* Import/Save notebooks from/to Google Drive\n",
        "* Import/Publish notebooks from GitHub\n",
        "* Import external datasets e.g. from Kaggle\n",
        "* Integrate PyTorch, TensorFlow, Keras, OpenCV\n",
        "* Free Cloud service with free GPU\n",
        "\n",
        "In the Statistic Seminar you can use either **Jupyter Notebooks** or **Google Colab** to collaboratively work on your topics. \n",
        "\n",
        "Please make use of the text cells for explanations and commenting your code! The text cells are formatted using **markdown** which also enables you to wirte equations with. \n",
        "\n",
        "\n"
      ]
    },
    {
      "cell_type": "code",
      "metadata": {
        "id": "4KjYh_IW_QJw"
      },
      "source": [
        ""
      ],
      "execution_count": null,
      "outputs": []
    },
    {
      "cell_type": "code",
      "metadata": {
        "id": "FzeIisHK_Lp7"
      },
      "source": [
        ""
      ],
      "execution_count": null,
      "outputs": []
    }
  ]
}